{
 "cells": [
  {
   "cell_type": "code",
   "execution_count": 2,
   "metadata": {},
   "outputs": [
    {
     "name": "stdout",
     "output_type": "stream",
     "text": [
      "                                                    Text  Language\n",
      "0       Nature, in the broadest sense, is the natural...   English\n",
      "1      \"Nature\" can refer to the phenomena of the phy...   English\n",
      "2      The study of nature is a large, if not the onl...   English\n",
      "3      Although humans are part of nature, human acti...   English\n",
      "4      [1] The word nature is borrowed from the Old F...   English\n",
      "...                                                  ...       ...\n",
      "11834                                          私の兄は医者です。  Japanese\n",
      "11835                                          雨の日が好きです。  Japanese\n",
      "11836                                   富士山に登ったことがありますか？  Japanese\n",
      "11837                                        この祭りは楽しいです。  Japanese\n",
      "11838                                      今日のニュースは何ですか？  Japanese\n",
      "\n",
      "[11839 rows x 2 columns]\n",
      "  (0, 12833)\t1\n",
      "  (0, 1603)\t1\n",
      "  (0, 10494)\t1\n",
      "  (0, 24866)\t1\n",
      "  (0, 24868)\t1\n",
      "  (0, 24258)\t1\n",
      "  (0, 10017)\t1\n",
      "  (0, 448)\t1\n",
      "  (0, 9329)\t1\n",
      "  (0, 445)\t1\n",
      "  (0, 446)\t1\n",
      "  (0, 3872)\t1\n",
      "  (0, 17016)\t1\n",
      "  (0, 19930)\t1\n",
      "  (0, 19910)\t1\n",
      "  (0, 16376)\t1\n",
      "  (0, 19334)\t1\n",
      "  (0, 158)\t1\n",
      "  (0, 15230)\t1\n",
      "  (0, 22640)\t1\n",
      "  (0, 12751)\t1\n",
      "  (0, 13081)\t1\n",
      "  (0, 19967)\t1\n",
      "  (0, 13047)\t1\n",
      "  (0, 13087)\t1\n",
      "  :\t:\n",
      "  (7930, 13363)\t1\n",
      "  (7930, 1281)\t1\n",
      "  (7930, 17987)\t1\n",
      "  (7930, 24878)\t3\n",
      "  (7930, 7266)\t1\n",
      "  (7930, 1088)\t1\n",
      "  (7930, 10977)\t1\n",
      "  (7930, 10769)\t1\n",
      "  (7930, 22787)\t1\n",
      "  (7930, 24216)\t1\n",
      "  (7931, 18687)\t3\n",
      "  (7931, 27418)\t2\n",
      "  (7931, 16365)\t2\n",
      "  (7931, 1628)\t1\n",
      "  (7931, 13640)\t1\n",
      "  (7931, 847)\t1\n",
      "  (7931, 23198)\t1\n",
      "  (7931, 8967)\t1\n",
      "  (7931, 26282)\t1\n",
      "  (7931, 13233)\t1\n",
      "  (7931, 7351)\t1\n",
      "  (7931, 7364)\t1\n",
      "  (7931, 16367)\t1\n",
      "  (7931, 1972)\t1\n",
      "  (7931, 6461)\t1\n",
      "['English']\n"
     ]
    },
    {
     "data": {
      "text/plain": [
       "['language_model.pkl']"
      ]
     },
     "execution_count": 2,
     "metadata": {},
     "output_type": "execute_result"
    }
   ],
   "source": [
    "import numpy as np \n",
    "import pandas as pd \n",
    "import joblib\n",
    "\n",
    "dataset = pd.read_csv('Language Detection.csv')\n",
    "print(dataset)\n",
    "\n",
    "\n",
    "from sklearn.feature_extraction.text import CountVectorizer\n",
    "from sklearn.model_selection import train_test_split\n",
    "from sklearn.naive_bayes import MultinomialNB   # Finding Unique Words\n",
    "\n",
    "# Data Cleaning\n",
    "dataset.isnull()\n",
    "dataset['Language'].value_counts()\n",
    "\n",
    "x = np.array(dataset['Text'])\n",
    "y = np.array(dataset['Language'])\n",
    "\n",
    "# creating cv object \n",
    "cv = CountVectorizer()\n",
    "X = cv.fit_transform(x)   # Convert x array into binary number format and vectorize it .(make sprarse matrix)\n",
    "\n",
    "joblib.dump(cv,'vectorizer.pkl')\n",
    "\n",
    "# spliting train and test data\n",
    "X_train,X_test,Y_train,Y_test = train_test_split(X,y, test_size=0.33,random_state=42)\n",
    "print(X_train)\n",
    "\n",
    "# Building Model\n",
    "model = MultinomialNB()\n",
    "\n",
    "# fitting model\n",
    "model.fit(X_train,Y_train)\n",
    "model.score(X_test,Y_test)    # Accuracy of the Model\n",
    "\n",
    "# Language Detection\n",
    "User = input('Enter a Text : ')\n",
    "UserInput = cv.transform([User]).toarray()\n",
    "Output = model.predict(UserInput)\n",
    "print(Output)\n",
    "joblib.dump(model, \"language_model.pkl\") \n"
   ]
  },
  {
   "cell_type": "code",
   "execution_count": 3,
   "metadata": {},
   "outputs": [
    {
     "data": {
      "text/plain": [
       "array(['English', 'Malayalam', 'Hindi', 'Tamil', 'Portugeese', 'French',\n",
       "       'Dutch', 'Spanish', 'Greek', 'Russian', 'Danish', 'Italian',\n",
       "       'Turkish', 'Sweedish', 'Arabic', 'German', 'Kannada', 'Gujarati',\n",
       "       'Language', 'Chinese', 'Japanese'], dtype=object)"
      ]
     },
     "execution_count": 3,
     "metadata": {},
     "output_type": "execute_result"
    }
   ],
   "source": [
    "model.score(X_test,Y_test) \n",
    "dataset['Language'].unique()"
   ]
  }
 ],
 "metadata": {
  "kernelspec": {
   "display_name": "Python 3",
   "language": "python",
   "name": "python3"
  },
  "language_info": {
   "codemirror_mode": {
    "name": "ipython",
    "version": 3
   },
   "file_extension": ".py",
   "mimetype": "text/x-python",
   "name": "python",
   "nbconvert_exporter": "python",
   "pygments_lexer": "ipython3",
   "version": "3.9.5"
  }
 },
 "nbformat": 4,
 "nbformat_minor": 2
}
